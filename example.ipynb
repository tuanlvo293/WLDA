{
  "cells": [
    {
      "cell_type": "code",
      "source": [
        "!pip install git+https://github.com/tuanlvo293/WLDA.git"
      ],
      "metadata": {
        "colab": {
          "base_uri": "https://localhost:8080/"
        },
        "id": "m6OK9nim9b-L",
        "outputId": "07b674d7-cc4d-4494-a4b4-3c0122b24882"
      },
      "execution_count": 1,
      "outputs": [
        {
          "output_type": "stream",
          "name": "stdout",
          "text": [
            "Collecting git+https://github.com/tuanlvo293/WLDA.git\n",
            "  Cloning https://github.com/tuanlvo293/WLDA.git to /tmp/pip-req-build-qonu1z8v\n",
            "  Running command git clone --filter=blob:none --quiet https://github.com/tuanlvo293/WLDA.git /tmp/pip-req-build-qonu1z8v\n",
            "  Resolved https://github.com/tuanlvo293/WLDA.git to commit 259eb363ba4fe25c6c3efacda0dc0e3a83d89d39\n",
            "  Preparing metadata (setup.py) ... \u001b[?25l\u001b[?25hdone\n",
            "Requirement already satisfied: numpy in /usr/local/lib/python3.10/dist-packages (from WLDA==0.1.0) (1.26.4)\n",
            "Requirement already satisfied: scikit-learn in /usr/local/lib/python3.10/dist-packages (from WLDA==0.1.0) (1.3.2)\n",
            "Requirement already satisfied: scipy>=1.5.0 in /usr/local/lib/python3.10/dist-packages (from scikit-learn->WLDA==0.1.0) (1.13.1)\n",
            "Requirement already satisfied: joblib>=1.1.1 in /usr/local/lib/python3.10/dist-packages (from scikit-learn->WLDA==0.1.0) (1.4.2)\n",
            "Requirement already satisfied: threadpoolctl>=2.0.0 in /usr/local/lib/python3.10/dist-packages (from scikit-learn->WLDA==0.1.0) (3.5.0)\n",
            "Building wheels for collected packages: WLDA\n",
            "  Building wheel for WLDA (setup.py) ... \u001b[?25l\u001b[?25hdone\n",
            "  Created wheel for WLDA: filename=WLDA-0.1.0-py3-none-any.whl size=4482 sha256=aaaf87d7ad370eaa4fbdb4a7649d8c3aa7342bae0f6807eedc8798fc11a03b48\n",
            "  Stored in directory: /tmp/pip-ephem-wheel-cache-bs3atkwj/wheels/d2/16/55/d0c8fe007af8820aa5abe5f17bead24f9323803eb3d546958f\n",
            "Successfully built WLDA\n",
            "Installing collected packages: WLDA\n",
            "Successfully installed WLDA-0.1.0\n"
          ]
        }
      ]
    },
    {
      "cell_type": "markdown",
      "source": [
        "Only training set contains missing values"
      ],
      "metadata": {
        "id": "2mrTPP6-UQoV"
      }
    },
    {
      "cell_type": "code",
      "source": [
        "from sklearn.datasets import load_iris\n",
        "import numpy as np\n",
        "from sklearn.model_selection import train_test_split\n",
        "from WLDA import WLDA\n",
        "from sklearn.metrics import accuracy_score\n",
        "\n",
        "data = load_iris()\n",
        "X = data.data\n",
        "y = data.target\n",
        "\n",
        "def generate_randomly_missing(X, missing_rate=0.5):\n",
        "    X_missing = X.copy()\n",
        "    n_missing_samples = int(np.floor(missing_rate * X_missing.size))\n",
        "    missing_samples = np.random.randint(0, X_missing.size, n_missing_samples)\n",
        "    X_missing.ravel()[missing_samples] = np.nan\n",
        "    return X_missing\n",
        "\n",
        "def experiment(X,y,missing_rate,run_time):\n",
        "    #G = len(np.unique(y)) #number of labels\n",
        "    for t in range(run_time):\n",
        "        X_train, X_test, y_train, y_test = train_test_split(X, y, test_size = 0.3, random_state = 0)\n",
        "        X_train = generate_randomly_missing(X_train,missing_rate)\n",
        "\n",
        "        model = WLDA()\n",
        "        model.fit(X_train, y_train)\n",
        "        accuracy = accuracy_score(y_test, model.predict(X_test).flatten())\n",
        "\n",
        "        print(f'{t+1:2d}-th time with accuracy = {accuracy:.4f}')\n",
        "experiment(X,y,.4,10)"
      ],
      "metadata": {
        "colab": {
          "base_uri": "https://localhost:8080/"
        },
        "id": "crgmaBcj1919",
        "outputId": "9e58ea99-81a2-467d-cb97-221bdb14a6e4"
      },
      "execution_count": 4,
      "outputs": [
        {
          "output_type": "stream",
          "name": "stdout",
          "text": [
            " 1-th time with accuracy = 0.9778\n",
            " 2-th time with accuracy = 0.9778\n",
            " 3-th time with accuracy = 0.9778\n",
            " 4-th time with accuracy = 0.9778\n",
            " 5-th time with accuracy = 0.8222\n",
            " 6-th time with accuracy = 0.9778\n",
            " 7-th time with accuracy = 0.9778\n",
            " 8-th time with accuracy = 0.9556\n",
            " 9-th time with accuracy = 0.9778\n",
            "10-th time with accuracy = 0.9778\n"
          ]
        }
      ]
    },
    {
      "cell_type": "markdown",
      "source": [
        "Both training and test sets contain missing values"
      ],
      "metadata": {
        "id": "glO0D1XYUWzJ"
      }
    },
    {
      "cell_type": "code",
      "source": [
        "from sklearn.datasets import load_iris\n",
        "import numpy as np\n",
        "from sklearn.model_selection import train_test_split\n",
        "from WLDA import WLDA\n",
        "from sklearn.metrics import accuracy_score\n",
        "\n",
        "data = load_iris()\n",
        "X = data.data\n",
        "y = data.target\n",
        "\n",
        "def generate_randomly_missing(X, missing_rate=0.5):\n",
        "    X_missing = X.copy()\n",
        "    n_missing_samples = int(np.floor(missing_rate * X_missing.size))\n",
        "    missing_samples = np.random.randint(0, X_missing.size, n_missing_samples)\n",
        "    X_missing.ravel()[missing_samples] = np.nan\n",
        "    return X_missing\n",
        "\n",
        "def experiment(X,y,missing_rate,run_time):\n",
        "    #G = len(np.unique(y)) #number of labels\n",
        "    for t in range(run_time):\n",
        "        Xm = generate_randomly_missing(X,missing_rate)\n",
        "        X_train, X_test, y_train, y_test = train_test_split(Xm, y, test_size = 0.3, random_state = 0)\n",
        "        model = WLDA()\n",
        "        model.fit(X_train, y_train)\n",
        "        accuracy = accuracy_score(y_test, model.predict(X_test).flatten())\n",
        "        print(f'{t+1:2d}-th time with accuracy = {accuracy:.4f}')\n",
        "experiment(X,y,.4,10)"
      ],
      "metadata": {
        "colab": {
          "base_uri": "https://localhost:8080/"
        },
        "id": "fTU7Y_rjUa3H",
        "outputId": "b9a26431-e01e-4f3d-e4e8-0f3ab2c6b0e8"
      },
      "execution_count": 6,
      "outputs": [
        {
          "output_type": "stream",
          "name": "stdout",
          "text": [
            " 1-th time with accuracy = 0.9111\n",
            " 2-th time with accuracy = 0.9778\n",
            " 3-th time with accuracy = 1.0000\n",
            " 4-th time with accuracy = 0.9111\n",
            " 5-th time with accuracy = 0.9556\n",
            " 6-th time with accuracy = 0.8667\n",
            " 7-th time with accuracy = 0.9778\n",
            " 8-th time with accuracy = 0.9556\n",
            " 9-th time with accuracy = 0.8667\n",
            "10-th time with accuracy = 0.9556\n"
          ]
        }
      ]
    }
  ],
  "metadata": {
    "colab": {
      "provenance": []
    },
    "kernelspec": {
      "display_name": "Python 3",
      "name": "python3"
    },
    "language_info": {
      "name": "python"
    }
  },
  "nbformat": 4,
  "nbformat_minor": 0
}
